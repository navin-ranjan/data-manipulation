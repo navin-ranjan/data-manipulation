{
 "cells": [
  {
   "cell_type": "markdown",
   "id": "6375378a",
   "metadata": {},
   "source": [
    "Great, Navin! Let’s practice SQL interview questions one by one, starting from intermediate to advanced level. Here's your **first question**:\n",
    "\n",
    "---\n",
    "\n",
    "### ✅ **Question 1: Find the Second Highest Salary**\n",
    "\n",
    "You are given a table named `Employees`:\n",
    "\n",
    "**Columns**:\n",
    "\n",
    "* `EmployeeID` (INT)\n",
    "* `EmployeeName` (VARCHAR)\n",
    "* `Salary` (INT)\n",
    "\n",
    "👉 **Task**: Write a SQL query to find the **second highest salary** from the `Employees` table.\n",
    "\n",
    "* The result should return only the salary value.\n",
    "* Do not use `LIMIT` or `TOP` if possible. Try using **subqueries or window functions**.\n",
    "\n",
    "---\n",
    "\n",
    "Let me know when you finish or if you'd like a hint or the solution.\n"
   ]
  },
  {
   "cell_type": "markdown",
   "id": "e22e90d8",
   "metadata": {},
   "source": [
    "1. select max(salary) as secondsalary\n",
    "from employee \n",
    "where salary < (\n",
    "    select max(salary) from employee\n",
    ");\n",
    "\n",
    "2. with table1 as (\n",
    "    select employeeName, salary,\n",
    "    row_number over (order by salary desc ) as rnk\n",
    "    from employee\n",
    ")\n",
    "select * from table1 where rnk = 2;"
   ]
  },
  {
   "cell_type": "markdown",
   "id": "1fb74af3",
   "metadata": {},
   "source": [
    "Great, Navin! Here's your **SQL Question 2**, commonly asked in interviews:\n",
    "\n",
    "---\n",
    "\n",
    "### ✅ **Question 2: Find Employees Who Earn More Than Their Manager**\n",
    "\n",
    "You are given an `Employees` table:\n",
    "\n",
    "**Columns**:  \n",
    "- `EmployeeID` (INT)  \n",
    "- `EmployeeName` (VARCHAR)  \n",
    "- `ManagerID` (INT) — refers to another `EmployeeID`  \n",
    "- `Salary` (INT)\n",
    "\n",
    "👉 **Task**:  \n",
    "Write a SQL query to find the names of employees who earn **more salary than their manager**.  \n",
    "Include:\n",
    "- `EmployeeName`\n",
    "- `EmployeeSalary`\n",
    "- `ManagerName`\n",
    "- `ManagerSalary`\n",
    "\n",
    "---\n",
    "\n",
    "Let me know when you're ready with your solution, or if you'd like a hint."
   ]
  },
  {
   "cell_type": "markdown",
   "id": "7bd642fe",
   "metadata": {},
   "source": [
    "SELECT e.*, m.\\* \n",
    "FROM employee e \n",
    "INNER JOIN employee m ON e.managerId = m.employeeId\n",
    "WHERE e.salary > m.salary;"
   ]
  },
  {
   "cell_type": "markdown",
   "id": "3f3793d4",
   "metadata": {},
   "source": [
    "Awesome, Navin! Here's your **SQL Question 3** — great for testing **aggregation + filtering** skills.\n",
    "\n",
    "---\n",
    "\n",
    "### ✅ **Question 3: Find Departments with More Than 3 Employees**\n",
    "\n",
    "You are given an `Employees` table:\n",
    "\n",
    "**Columns**:\n",
    "\n",
    "* `EmployeeID` (INT)\n",
    "* `EmployeeName` (VARCHAR)\n",
    "* `DepartmentID` (INT)\n",
    "* `Salary` (INT)\n",
    "\n",
    "👉 **Task**:\n",
    "Write a SQL query to find the **DepartmentID** and the **number of employees** in each department, but only return those departments that have **more than 3 employees**.\n",
    "\n",
    "---\n",
    "\n",
    "Let me know when you're ready with your solution, or if you want a **hint**.\n"
   ]
  },
  {
   "cell_type": "markdown",
   "id": "62e7b1d3",
   "metadata": {},
   "source": [
    "SELECT DepartmentID, COUNT(*) AS ct\n",
    "FROM employee\n",
    "GROUP BY DepartmentID\n",
    "HAVING COUNT(*) > 3;"
   ]
  },
  {
   "cell_type": "markdown",
   "id": "b0f0e453",
   "metadata": {},
   "source": [
    "Great progress, Navin! Here's your **SQL Question 4**, which focuses on **window functions and ranking**.\n",
    "\n",
    "---\n",
    "\n",
    "### ✅ **Question 4: Top 2 Salaries Per Department**\n",
    "\n",
    "You are given an `Employees` table:\n",
    "\n",
    "**Columns**:\n",
    "\n",
    "* `EmployeeID` (INT)\n",
    "* `EmployeeName` (VARCHAR)\n",
    "* `DepartmentID` (INT)\n",
    "* `Salary` (INT)\n",
    "\n",
    "👉 **Task**:\n",
    "Write a SQL query to find the **top 2 highest-paid employees in each department**.\n",
    "Include:\n",
    "\n",
    "* `DepartmentID`\n",
    "* `EmployeeName`\n",
    "* `Salary`\n",
    "\n",
    "Use a **window function** (`ROW_NUMBER`, `RANK`, or `DENSE_RANK`) to solve this.\n",
    "\n",
    "---\n",
    "\n",
    "Let me know once you try it, or if you want a **hint**!\n"
   ]
  },
  {
   "cell_type": "markdown",
   "id": "2cd27379",
   "metadata": {},
   "source": []
  }
 ],
 "metadata": {
  "language_info": {
   "name": "python"
  }
 },
 "nbformat": 4,
 "nbformat_minor": 5
}
