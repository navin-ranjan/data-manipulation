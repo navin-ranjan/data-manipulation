{
 "cells": [
  {
   "cell_type": "code",
   "execution_count": 1,
   "id": "9db37de9",
   "metadata": {},
   "outputs": [],
   "source": [
    "from pyspark.sql import SparkSession\n",
    "\n",
    "spark=SparkSession.builder.appName('accumulators').getOrCreate()\n",
    "sc=spark.sparkContext"
   ]
  },
  {
   "cell_type": "code",
   "execution_count": 2,
   "id": "0866c622",
   "metadata": {},
   "outputs": [
    {
     "data": {
      "text/html": [
       "\n",
       "            <div>\n",
       "                <p><b>SparkSession - in-memory</b></p>\n",
       "                \n",
       "        <div>\n",
       "            <p><b>SparkContext</b></p>\n",
       "\n",
       "            <p><a href=\"http://DESKTOP-OI3A44I:4042\">Spark UI</a></p>\n",
       "\n",
       "            <dl>\n",
       "              <dt>Version</dt>\n",
       "                <dd><code>v3.4.3</code></dd>\n",
       "              <dt>Master</dt>\n",
       "                <dd><code>local[*]</code></dd>\n",
       "              <dt>AppName</dt>\n",
       "                <dd><code>accumulators</code></dd>\n",
       "            </dl>\n",
       "        </div>\n",
       "        \n",
       "            </div>\n",
       "        "
      ],
      "text/plain": [
       "<pyspark.sql.session.SparkSession at 0x2a95bd4ccd0>"
      ]
     },
     "execution_count": 2,
     "metadata": {},
     "output_type": "execute_result"
    }
   ],
   "source": [
    "spark"
   ]
  },
  {
   "cell_type": "code",
   "execution_count": 3,
   "id": "77d15d77",
   "metadata": {},
   "outputs": [
    {
     "data": {
      "text/plain": [
       "['My name is Navin Ranjan', 'this is second line', 'this is third line']"
      ]
     },
     "execution_count": 3,
     "metadata": {},
     "output_type": "execute_result"
    }
   ],
   "source": [
    "rddt1=sc.textFile(\"C:\\\\Users\\\\Navin Ranjan\\\\Desktop\\\\git-work\\\\data-manipulation\\\\azure-data-engineer\\\\databrick-pyspark\\\\files\\\\wordfile.txt\")\n",
    "rddt1.collect()"
   ]
  },
  {
   "cell_type": "code",
   "execution_count": 4,
   "id": "622f7b0f",
   "metadata": {},
   "outputs": [
    {
     "data": {
      "text/plain": [
       "0"
      ]
     },
     "execution_count": 4,
     "metadata": {},
     "output_type": "execute_result"
    }
   ],
   "source": [
    "wc = sc.accumulator(0)\n",
    "wc.value"
   ]
  },
  {
   "cell_type": "code",
   "execution_count": 5,
   "id": "398f499d",
   "metadata": {},
   "outputs": [],
   "source": [
    "def splitAndCount(x):\n",
    "    arr = x.split(\" \")\n",
    "    wc.add(len(arr))"
   ]
  },
  {
   "cell_type": "code",
   "execution_count": 6,
   "id": "d239d720",
   "metadata": {},
   "outputs": [],
   "source": [
    "rddt1.foreach(splitAndCount)"
   ]
  },
  {
   "cell_type": "code",
   "execution_count": 7,
   "id": "b8aeed33",
   "metadata": {},
   "outputs": [
    {
     "data": {
      "text/plain": [
       "13"
      ]
     },
     "execution_count": 7,
     "metadata": {},
     "output_type": "execute_result"
    }
   ],
   "source": [
    "wc.value"
   ]
  },
  {
   "cell_type": "code",
   "execution_count": 8,
   "id": "1ff2544f",
   "metadata": {},
   "outputs": [],
   "source": [
    "rdd2=rddt1.map(splitAndCount)"
   ]
  },
  {
   "cell_type": "code",
   "execution_count": 9,
   "id": "eb77e4b0",
   "metadata": {},
   "outputs": [
    {
     "data": {
      "text/plain": [
       "13"
      ]
     },
     "execution_count": 9,
     "metadata": {},
     "output_type": "execute_result"
    }
   ],
   "source": [
    "wc.value"
   ]
  },
  {
   "cell_type": "code",
   "execution_count": 10,
   "id": "14865eea",
   "metadata": {},
   "outputs": [
    {
     "data": {
      "text/plain": [
       "3"
      ]
     },
     "execution_count": 10,
     "metadata": {},
     "output_type": "execute_result"
    }
   ],
   "source": [
    "rdd2.count()"
   ]
  },
  {
   "cell_type": "code",
   "execution_count": 11,
   "id": "f2b486a6",
   "metadata": {},
   "outputs": [
    {
     "data": {
      "text/plain": [
       "26"
      ]
     },
     "execution_count": 11,
     "metadata": {},
     "output_type": "execute_result"
    }
   ],
   "source": [
    "wc.value"
   ]
  }
 ],
 "metadata": {
  "kernelspec": {
   "display_name": "Python 3",
   "language": "python",
   "name": "python3"
  },
  "language_info": {
   "codemirror_mode": {
    "name": "ipython",
    "version": 3
   },
   "file_extension": ".py",
   "mimetype": "text/x-python",
   "name": "python",
   "nbconvert_exporter": "python",
   "pygments_lexer": "ipython3",
   "version": "3.10.0"
  }
 },
 "nbformat": 4,
 "nbformat_minor": 5
}
