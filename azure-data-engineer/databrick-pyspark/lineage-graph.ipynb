{
 "cells": [
  {
   "cell_type": "code",
   "execution_count": 1,
   "id": "a19e4d05",
   "metadata": {},
   "outputs": [],
   "source": [
    "from pyspark.sql import SparkSession\n",
    "\n",
    "spark=SparkSession.builder.appName('lineage-graph').getOrCreate()"
   ]
  },
  {
   "cell_type": "code",
   "execution_count": 3,
   "id": "adfc604b",
   "metadata": {},
   "outputs": [],
   "source": [
    "sc=spark.sparkContext\n",
    "rdd1=sc.textFile(\"C:\\\\Users\\\\Navin Ranjan\\\\Desktop\\\\git-work\\\\data-manipulation\\\\azure-data-engineer\\\\databrick-pyspark\\\\files\\\\wordfile.txt\")"
   ]
  },
  {
   "cell_type": "code",
   "execution_count": 4,
   "id": "6eef1341",
   "metadata": {},
   "outputs": [
    {
     "data": {
      "text/plain": [
       "b'(2) C:\\\\Users\\\\Navin Ranjan\\\\Desktop\\\\git-work\\\\data-manipulation\\\\azure-data-engineer\\\\databrick-pyspark\\\\files\\\\wordfile.txt MapPartitionsRDD[1] at textFile at NativeMethodAccessorImpl.java:0 []\\n |  C:\\\\Users\\\\Navin Ranjan\\\\Desktop\\\\git-work\\\\data-manipulation\\\\azure-data-engineer\\\\databrick-pyspark\\\\files\\\\wordfile.txt HadoopRDD[0] at textFile at NativeMethodAccessorImpl.java:0 []'"
      ]
     },
     "execution_count": 4,
     "metadata": {},
     "output_type": "execute_result"
    }
   ],
   "source": [
    "rdd1.toDebugString()"
   ]
  },
  {
   "cell_type": "code",
   "execution_count": 5,
   "id": "bb8c96b1",
   "metadata": {},
   "outputs": [],
   "source": [
    "rdd2=rdd1.flatMap(lambda x: x.split(\" \"))"
   ]
  },
  {
   "cell_type": "code",
   "execution_count": 7,
   "id": "ac295178",
   "metadata": {},
   "outputs": [
    {
     "data": {
      "text/plain": [
       "[b'(2) PythonRDD[2] at RDD at PythonRDD.scala:53 []',\n",
       " b' |  C:\\\\Users\\\\Navin Ranjan\\\\Desktop\\\\git-work\\\\data-manipulation\\\\azure-data-engineer\\\\databrick-pyspark\\\\files\\\\wordfile.txt MapPartitionsRDD[1] at textFile at NativeMethodAccessorImpl.java:0 []',\n",
       " b' |  C:\\\\Users\\\\Navin Ranjan\\\\Desktop\\\\git-work\\\\data-manipulation\\\\azure-data-engineer\\\\databrick-pyspark\\\\files\\\\wordfile.txt HadoopRDD[0] at textFile at NativeMethodAccessorImpl.java:0 []']"
      ]
     },
     "execution_count": 7,
     "metadata": {},
     "output_type": "execute_result"
    }
   ],
   "source": [
    "rdd2.toDebugString().splitlines()"
   ]
  },
  {
   "cell_type": "code",
   "execution_count": 8,
   "id": "e26a31ad",
   "metadata": {},
   "outputs": [],
   "source": [
    "rdd3=rdd2.map(lambda y: (y,1))\n"
   ]
  },
  {
   "cell_type": "code",
   "execution_count": 9,
   "id": "1b0d8488",
   "metadata": {},
   "outputs": [
    {
     "data": {
      "text/plain": [
       "[b'(2) PythonRDD[3] at RDD at PythonRDD.scala:53 []',\n",
       " b' |  C:\\\\Users\\\\Navin Ranjan\\\\Desktop\\\\git-work\\\\data-manipulation\\\\azure-data-engineer\\\\databrick-pyspark\\\\files\\\\wordfile.txt MapPartitionsRDD[1] at textFile at NativeMethodAccessorImpl.java:0 []',\n",
       " b' |  C:\\\\Users\\\\Navin Ranjan\\\\Desktop\\\\git-work\\\\data-manipulation\\\\azure-data-engineer\\\\databrick-pyspark\\\\files\\\\wordfile.txt HadoopRDD[0] at textFile at NativeMethodAccessorImpl.java:0 []']"
      ]
     },
     "execution_count": 9,
     "metadata": {},
     "output_type": "execute_result"
    }
   ],
   "source": [
    "rdd3.toDebugString().splitlines()"
   ]
  },
  {
   "cell_type": "code",
   "execution_count": 10,
   "id": "7af419ae",
   "metadata": {},
   "outputs": [],
   "source": [
    "rdd4 = rdd3.reduceByKey(lambda x,y: x+y)\n"
   ]
  },
  {
   "cell_type": "code",
   "execution_count": 11,
   "id": "377978c4",
   "metadata": {},
   "outputs": [
    {
     "data": {
      "text/plain": [
       "[b'(2) PythonRDD[8] at RDD at PythonRDD.scala:53 []',\n",
       " b' |  MapPartitionsRDD[7] at mapPartitions at PythonRDD.scala:158 []',\n",
       " b' |  ShuffledRDD[6] at partitionBy at NativeMethodAccessorImpl.java:0 []',\n",
       " b' +-(2) PairwiseRDD[5] at reduceByKey at C:\\\\Users\\\\Navin Ranjan\\\\AppData\\\\Local\\\\Temp\\\\ipykernel_15288\\\\2689610013.py:1 []',\n",
       " b'    |  PythonRDD[4] at reduceByKey at C:\\\\Users\\\\Navin Ranjan\\\\AppData\\\\Local\\\\Temp\\\\ipykernel_15288\\\\2689610013.py:1 []',\n",
       " b'    |  C:\\\\Users\\\\Navin Ranjan\\\\Desktop\\\\git-work\\\\data-manipulation\\\\azure-data-engineer\\\\databrick-pyspark\\\\files\\\\wordfile.txt MapPartitionsRDD[1] at textFile at NativeMethodAccessorImpl.java:0 []',\n",
       " b'    |  C:\\\\Users\\\\Navin Ranjan\\\\Desktop\\\\git-work\\\\data-manipulation\\\\azure-data-engineer\\\\databrick-pyspark\\\\files\\\\wordfile.txt HadoopRDD[0] at textFile at NativeMethodAccessorImpl.java:0 []']"
      ]
     },
     "execution_count": 11,
     "metadata": {},
     "output_type": "execute_result"
    }
   ],
   "source": [
    "rdd4.toDebugString().splitlines()"
   ]
  }
 ],
 "metadata": {
  "kernelspec": {
   "display_name": "Python 3",
   "language": "python",
   "name": "python3"
  },
  "language_info": {
   "codemirror_mode": {
    "name": "ipython",
    "version": 3
   },
   "file_extension": ".py",
   "mimetype": "text/x-python",
   "name": "python",
   "nbconvert_exporter": "python",
   "pygments_lexer": "ipython3",
   "version": "3.10.0"
  }
 },
 "nbformat": 4,
 "nbformat_minor": 5
}
