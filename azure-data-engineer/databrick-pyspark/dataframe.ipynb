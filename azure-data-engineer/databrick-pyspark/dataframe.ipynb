{
 "cells": [
  {
   "cell_type": "code",
   "execution_count": 1,
   "id": "d152ff5a",
   "metadata": {},
   "outputs": [],
   "source": [
    "from pyspark.sql import SparkSession\n",
    "\n",
    "spark=SparkSession.builder.appName('accumulators').getOrCreate()\n",
    "sc=spark.sparkContext"
   ]
  },
  {
   "cell_type": "code",
   "execution_count": 2,
   "id": "c90750ae",
   "metadata": {},
   "outputs": [
    {
     "data": {
      "text/html": [
       "\n",
       "            <div>\n",
       "                <p><b>SparkSession - in-memory</b></p>\n",
       "                \n",
       "        <div>\n",
       "            <p><b>SparkContext</b></p>\n",
       "\n",
       "            <p><a href=\"http://DESKTOP-OI3A44I:4040\">Spark UI</a></p>\n",
       "\n",
       "            <dl>\n",
       "              <dt>Version</dt>\n",
       "                <dd><code>v3.4.3</code></dd>\n",
       "              <dt>Master</dt>\n",
       "                <dd><code>local[*]</code></dd>\n",
       "              <dt>AppName</dt>\n",
       "                <dd><code>accumulators</code></dd>\n",
       "            </dl>\n",
       "        </div>\n",
       "        \n",
       "            </div>\n",
       "        "
      ],
      "text/plain": [
       "<pyspark.sql.session.SparkSession at 0x1f8ba358a60>"
      ]
     },
     "execution_count": 2,
     "metadata": {},
     "output_type": "execute_result"
    }
   ],
   "source": [
    "spark"
   ]
  },
  {
   "cell_type": "code",
   "execution_count": 3,
   "id": "b1e69840",
   "metadata": {},
   "outputs": [],
   "source": [
    "df = spark.read.csv(\"C:\\\\Users\\\\Navin Ranjan\\\\Desktop\\\\git-work\\\\data-manipulation\\\\azure-data-engineer\\\\databrick-pyspark\\\\files\\\\Products.csv\")"
   ]
  },
  {
   "cell_type": "code",
   "execution_count": 5,
   "id": "dc286aa7",
   "metadata": {},
   "outputs": [
    {
     "data": {
      "text/plain": [
       "[Row(_c0='ProductKey', _c1='EnglishProductName'),\n",
       " Row(_c0='310', _c1='Road-150 Red, 62'),\n",
       " Row(_c0='311', _c1='Road-150 Red, 44'),\n",
       " Row(_c0='312', _c1='Road-150 Red, 48'),\n",
       " Row(_c0='313', _c1='Road-150 Red, 52'),\n",
       " Row(_c0='314', _c1='Road-150 Red, 56'),\n",
       " Row(_c0='315', _c1='Road-450 Red, 58'),\n",
       " Row(_c0='316', _c1='Road-450 Red, 60'),\n",
       " Row(_c0='317', _c1='Road-450 Red, 44'),\n",
       " Row(_c0='318', _c1='Road-450 Red, 48'),\n",
       " Row(_c0='319', _c1='Road-450 Red, 52'),\n",
       " Row(_c0='320', _c1='Road-650 Red, 58'),\n",
       " Row(_c0='321', _c1='Road-650 Red, 58'),\n",
       " Row(_c0='322', _c1='Road-650 Red, 60'),\n",
       " Row(_c0='323', _c1='Road-650 Red, 60'),\n",
       " Row(_c0='324', _c1='Road-650 Red, 62'),\n",
       " Row(_c0='325', _c1='Road-650 Red, 62'),\n",
       " Row(_c0='326', _c1='Road-650 Red, 44'),\n",
       " Row(_c0='327', _c1='Road-650 Red, 44'),\n",
       " Row(_c0='328', _c1='Road-650 Red, 48'),\n",
       " Row(_c0='329', _c1='Road-650 Red, 48'),\n",
       " Row(_c0='330', _c1='Road-650 Red, 52'),\n",
       " Row(_c0='331', _c1='Road-650 Red, 52'),\n",
       " Row(_c0='332', _c1='Road-650 Black, 58'),\n",
       " Row(_c0='333', _c1='Road-650 Black, 58'),\n",
       " Row(_c0='334', _c1='Road-650 Black, 60'),\n",
       " Row(_c0='335', _c1='Road-650 Black, 60'),\n",
       " Row(_c0='336', _c1='Road-650 Black, 62'),\n",
       " Row(_c0='337', _c1='Road-650 Black, 62'),\n",
       " Row(_c0='338', _c1='Road-650 Black, 44'),\n",
       " Row(_c0='339', _c1='Road-650 Black, 44'),\n",
       " Row(_c0='340', _c1='Road-650 Black, 48')]"
      ]
     },
     "execution_count": 5,
     "metadata": {},
     "output_type": "execute_result"
    }
   ],
   "source": [
    "df.collect()"
   ]
  },
  {
   "cell_type": "code",
   "execution_count": 6,
   "id": "0705e255",
   "metadata": {},
   "outputs": [
    {
     "name": "stdout",
     "output_type": "stream",
     "text": [
      "+----------+------------------+\n",
      "|       _c0|               _c1|\n",
      "+----------+------------------+\n",
      "|ProductKey|EnglishProductName|\n",
      "|       310|  Road-150 Red, 62|\n",
      "|       311|  Road-150 Red, 44|\n",
      "|       312|  Road-150 Red, 48|\n",
      "|       313|  Road-150 Red, 52|\n",
      "|       314|  Road-150 Red, 56|\n",
      "|       315|  Road-450 Red, 58|\n",
      "|       316|  Road-450 Red, 60|\n",
      "|       317|  Road-450 Red, 44|\n",
      "|       318|  Road-450 Red, 48|\n",
      "|       319|  Road-450 Red, 52|\n",
      "|       320|  Road-650 Red, 58|\n",
      "|       321|  Road-650 Red, 58|\n",
      "|       322|  Road-650 Red, 60|\n",
      "|       323|  Road-650 Red, 60|\n",
      "|       324|  Road-650 Red, 62|\n",
      "|       325|  Road-650 Red, 62|\n",
      "|       326|  Road-650 Red, 44|\n",
      "|       327|  Road-650 Red, 44|\n",
      "|       328|  Road-650 Red, 48|\n",
      "+----------+------------------+\n",
      "only showing top 20 rows\n",
      "\n"
     ]
    }
   ],
   "source": [
    "df.show()"
   ]
  },
  {
   "cell_type": "code",
   "execution_count": 10,
   "id": "ddf7efe1",
   "metadata": {},
   "outputs": [],
   "source": [
    "dfh= spark.read.csv(\"C:\\\\Users\\\\Navin Ranjan\\\\Desktop\\\\git-work\\\\data-manipulation\\\\azure-data-engineer\\\\databrick-pyspark\\\\files\\\\Products.csv\", header=True, inferSchema=True)"
   ]
  },
  {
   "cell_type": "code",
   "execution_count": 14,
   "id": "d421b4dc",
   "metadata": {},
   "outputs": [
    {
     "name": "stdout",
     "output_type": "stream",
     "text": [
      "root\n",
      " |-- ProductKey: integer (nullable = true)\n",
      " |-- EnglishProductName: string (nullable = true)\n",
      "\n"
     ]
    }
   ],
   "source": [
    "dfh.printSchema()"
   ]
  },
  {
   "cell_type": "code",
   "execution_count": 11,
   "id": "1c423c1c",
   "metadata": {},
   "outputs": [
    {
     "name": "stdout",
     "output_type": "stream",
     "text": [
      "+----------+------------------+\n",
      "|ProductKey|EnglishProductName|\n",
      "+----------+------------------+\n",
      "|       310|  Road-150 Red, 62|\n",
      "|       311|  Road-150 Red, 44|\n",
      "|       312|  Road-150 Red, 48|\n",
      "|       313|  Road-150 Red, 52|\n",
      "|       314|  Road-150 Red, 56|\n",
      "+----------+------------------+\n",
      "only showing top 5 rows\n",
      "\n"
     ]
    }
   ],
   "source": [
    "dfh.show(5)"
   ]
  },
  {
   "cell_type": "code",
   "execution_count": null,
   "id": "ce705636",
   "metadata": {},
   "outputs": [],
   "source": [
    "df4= spark.read.format(\"csv\") \\\n",
    "    .option(\"path\", \"C:\\\\Users\\\\Navin Ranjan\\\\Desktop\\\\git-work\\\\data-manipulation\\\\azure-data-engineer\\\\databrick-pyspark\\\\files\\\\Products.csv\") \\\n",
    "    .option(\"header\", True).option(\"inferschema\", True).load()"
   ]
  },
  {
   "cell_type": "code",
   "execution_count": 16,
   "id": "fe6270aa",
   "metadata": {},
   "outputs": [
    {
     "name": "stdout",
     "output_type": "stream",
     "text": [
      "+----------+------------------+\n",
      "|ProductKey|EnglishProductName|\n",
      "+----------+------------------+\n",
      "|       310|  Road-150 Red, 62|\n",
      "|       311|  Road-150 Red, 44|\n",
      "|       312|  Road-150 Red, 48|\n",
      "|       313|  Road-150 Red, 52|\n",
      "|       314|  Road-150 Red, 56|\n",
      "+----------+------------------+\n",
      "only showing top 5 rows\n",
      "\n"
     ]
    }
   ],
   "source": [
    "df4.show(5)"
   ]
  }
 ],
 "metadata": {
  "kernelspec": {
   "display_name": "Python 3",
   "language": "python",
   "name": "python3"
  },
  "language_info": {
   "codemirror_mode": {
    "name": "ipython",
    "version": 3
   },
   "file_extension": ".py",
   "mimetype": "text/x-python",
   "name": "python",
   "nbconvert_exporter": "python",
   "pygments_lexer": "ipython3",
   "version": "3.10.0"
  }
 },
 "nbformat": 4,
 "nbformat_minor": 5
}
