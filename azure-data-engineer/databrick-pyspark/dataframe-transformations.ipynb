{
 "cells": [
  {
   "cell_type": "code",
   "execution_count": 1,
   "id": "c6571605",
   "metadata": {},
   "outputs": [],
   "source": [
    "from pyspark.sql import SparkSession\n",
    "\n",
    "spark=SparkSession.builder.appName('accumulators').getOrCreate()\n",
    "sc=spark.sparkContext"
   ]
  },
  {
   "cell_type": "code",
   "execution_count": 2,
   "id": "e7089c1f",
   "metadata": {},
   "outputs": [
    {
     "data": {
      "text/html": [
       "\n",
       "            <div>\n",
       "                <p><b>SparkSession - in-memory</b></p>\n",
       "                \n",
       "        <div>\n",
       "            <p><b>SparkContext</b></p>\n",
       "\n",
       "            <p><a href=\"http://DESKTOP-OI3A44I:4041\">Spark UI</a></p>\n",
       "\n",
       "            <dl>\n",
       "              <dt>Version</dt>\n",
       "                <dd><code>v3.4.3</code></dd>\n",
       "              <dt>Master</dt>\n",
       "                <dd><code>local[*]</code></dd>\n",
       "              <dt>AppName</dt>\n",
       "                <dd><code>accumulators</code></dd>\n",
       "            </dl>\n",
       "        </div>\n",
       "        \n",
       "            </div>\n",
       "        "
      ],
      "text/plain": [
       "<pyspark.sql.session.SparkSession at 0x1207db88a90>"
      ]
     },
     "execution_count": 2,
     "metadata": {},
     "output_type": "execute_result"
    }
   ],
   "source": [
    "spark"
   ]
  },
  {
   "cell_type": "code",
   "execution_count": null,
   "id": "49117520",
   "metadata": {},
   "outputs": [],
   "source": [
    "df= spark.read.format(\"csv\") \\\n",
    "    .option(\"path\", \"C:\\\\Users\\\\Navin Ranjan\\\\Desktop\\\\git-work\\\\data-manipulation\\\\azure-data-engineer\\\\databrick-pyspark\\\\files\\\\Products.csv\") \\\n",
    "    .option(\"header\", True)\\\n",
    "    .option(\"inferschema\", True)\\\n",
    "    .load()"
   ]
  },
  {
   "cell_type": "code",
   "execution_count": 4,
   "id": "e3141934",
   "metadata": {},
   "outputs": [
    {
     "data": {
      "text/plain": [
       "['ProductID',\n",
       " 'ProductName',\n",
       " 'Category',\n",
       " 'Price',\n",
       " 'InStock',\n",
       " 'LaunchDate',\n",
       " 'Rating']"
      ]
     },
     "execution_count": 4,
     "metadata": {},
     "output_type": "execute_result"
    }
   ],
   "source": [
    "df.columns"
   ]
  },
  {
   "cell_type": "code",
   "execution_count": 6,
   "id": "ee079f69",
   "metadata": {},
   "outputs": [
    {
     "name": "stdout",
     "output_type": "stream",
     "text": [
      "root\n",
      " |-- ProductID: integer (nullable = true)\n",
      " |-- ProductName: string (nullable = true)\n",
      " |-- Category: string (nullable = true)\n",
      " |-- Price: double (nullable = true)\n",
      " |-- InStock: boolean (nullable = true)\n",
      " |-- LaunchDate: date (nullable = true)\n",
      " |-- Rating: double (nullable = true)\n",
      "\n"
     ]
    }
   ],
   "source": [
    "df.printSchema()"
   ]
  },
  {
   "cell_type": "code",
   "execution_count": 7,
   "id": "b46d0359",
   "metadata": {},
   "outputs": [
    {
     "name": "stdout",
     "output_type": "stream",
     "text": [
      "+---------+-------------------+-----------+-----+-------+----------+------+\n",
      "|ProductID|        ProductName|   Category|Price|InStock|LaunchDate|Rating|\n",
      "+---------+-------------------+-----------+-----+-------+----------+------+\n",
      "|     1001|     Wireless Mouse|Electronics|15.99|   true|2023-05-15|   4.3|\n",
      "|     1002|       Office Chair|  Furniture| 89.5|  false|2022-11-30|   4.1|\n",
      "|     1003|         Coffee Mug|    Kitchen| 5.25|   true|2024-01-20|   4.8|\n",
      "|     1004|Notebook Stationery| Stationery| 1.99|   true|2023-08-10|   4.0|\n",
      "|     1005|  Bluetooth Speaker|Electronics|29.99|  false|2023-03-12|   3.9|\n",
      "+---------+-------------------+-----------+-----+-------+----------+------+\n",
      "only showing top 5 rows\n",
      "\n"
     ]
    }
   ],
   "source": [
    "df.show(5)"
   ]
  },
  {
   "cell_type": "markdown",
   "id": "adafa7c3",
   "metadata": {},
   "source": []
  }
 ],
 "metadata": {
  "kernelspec": {
   "display_name": "Python 3",
   "language": "python",
   "name": "python3"
  },
  "language_info": {
   "codemirror_mode": {
    "name": "ipython",
    "version": 3
   },
   "file_extension": ".py",
   "mimetype": "text/x-python",
   "name": "python",
   "nbconvert_exporter": "python",
   "pygments_lexer": "ipython3",
   "version": "3.10.0"
  }
 },
 "nbformat": 4,
 "nbformat_minor": 5
}
