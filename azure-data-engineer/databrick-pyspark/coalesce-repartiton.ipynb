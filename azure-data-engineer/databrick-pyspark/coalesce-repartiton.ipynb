{
 "cells": [
  {
   "cell_type": "code",
   "execution_count": 1,
   "id": "c43c6832",
   "metadata": {},
   "outputs": [],
   "source": [
    "from pyspark.sql import *\n",
    "\n",
    "spark = SparkSession.builder.appName('coalesece-repartiton').getOrCreate()\n"
   ]
  },
  {
   "cell_type": "code",
   "execution_count": 2,
   "id": "d1d4e27b",
   "metadata": {},
   "outputs": [
    {
     "data": {
      "text/html": [
       "\n",
       "            <div>\n",
       "                <p><b>SparkSession - in-memory</b></p>\n",
       "                \n",
       "        <div>\n",
       "            <p><b>SparkContext</b></p>\n",
       "\n",
       "            <p><a href=\"http://DESKTOP-OI3A44I:4041\">Spark UI</a></p>\n",
       "\n",
       "            <dl>\n",
       "              <dt>Version</dt>\n",
       "                <dd><code>v3.4.3</code></dd>\n",
       "              <dt>Master</dt>\n",
       "                <dd><code>local[*]</code></dd>\n",
       "              <dt>AppName</dt>\n",
       "                <dd><code>coalesece-repartiton</code></dd>\n",
       "            </dl>\n",
       "        </div>\n",
       "        \n",
       "            </div>\n",
       "        "
      ],
      "text/plain": [
       "<pyspark.sql.session.SparkSession at 0x2684fba5000>"
      ]
     },
     "execution_count": 2,
     "metadata": {},
     "output_type": "execute_result"
    }
   ],
   "source": [
    "spark"
   ]
  },
  {
   "cell_type": "code",
   "execution_count": 3,
   "id": "c4f14bcf",
   "metadata": {},
   "outputs": [],
   "source": [
    "sc=spark.sparkContext"
   ]
  },
  {
   "cell_type": "code",
   "execution_count": 4,
   "id": "4a5eccda",
   "metadata": {},
   "outputs": [
    {
     "data": {
      "text/plain": [
       "[2, 3, 4, 5, 2, 5, 6, 7, 5, 4, 7]"
      ]
     },
     "execution_count": 4,
     "metadata": {},
     "output_type": "execute_result"
    }
   ],
   "source": [
    "rdd=sc.parallelize([2,3,4,5,2,5,6,7,5,4,7])\n",
    "rdd.collect()"
   ]
  },
  {
   "cell_type": "code",
   "execution_count": 5,
   "id": "a9c50648",
   "metadata": {},
   "outputs": [
    {
     "data": {
      "text/plain": [
       "[[], [2], [3], [4], [5], [2], [5], [6], [7], [5], [4], [7]]"
      ]
     },
     "execution_count": 5,
     "metadata": {},
     "output_type": "execute_result"
    }
   ],
   "source": [
    "rdd.glom().collect()"
   ]
  },
  {
   "cell_type": "code",
   "execution_count": 6,
   "id": "31365ae7",
   "metadata": {},
   "outputs": [
    {
     "name": "stdout",
     "output_type": "stream",
     "text": [
      "Help on method coalesce in module pyspark.rdd:\n",
      "\n",
      "coalesce(numPartitions: int, shuffle: bool = False) -> 'RDD[T]' method of pyspark.rdd.RDD instance\n",
      "    Return a new RDD that is reduced into `numPartitions` partitions.\n",
      "    \n",
      "    .. versionadded:: 1.0.0\n",
      "    \n",
      "    Parameters\n",
      "    ----------\n",
      "    numPartitions : int, optional\n",
      "        the number of partitions in new :class:`RDD`\n",
      "    shuffle : bool, optional, default False\n",
      "        whether to add a shuffle step\n",
      "    \n",
      "    Returns\n",
      "    -------\n",
      "    :class:`RDD`\n",
      "        a :class:`RDD` that is reduced into `numPartitions` partitions\n",
      "    \n",
      "    See Also\n",
      "    --------\n",
      "    :meth:`RDD.repartition`\n",
      "    \n",
      "    Examples\n",
      "    --------\n",
      "    >>> sc.parallelize([1, 2, 3, 4, 5], 3).glom().collect()\n",
      "    [[1], [2, 3], [4, 5]]\n",
      "    >>> sc.parallelize([1, 2, 3, 4, 5], 3).coalesce(1).glom().collect()\n",
      "    [[1, 2, 3, 4, 5]]\n",
      "\n"
     ]
    }
   ],
   "source": [
    "help(rdd.coalesce)"
   ]
  },
  {
   "cell_type": "code",
   "execution_count": 8,
   "id": "f7eb84c5",
   "metadata": {},
   "outputs": [
    {
     "data": {
      "text/plain": [
       "[[2, 3], [4, 5, 2], [5, 6, 7], [5, 4, 7]]"
      ]
     },
     "execution_count": 8,
     "metadata": {},
     "output_type": "execute_result"
    }
   ],
   "source": [
    "rdd2=rdd.coalesce(4)\n",
    "rdd2.glom().collect()"
   ]
  },
  {
   "cell_type": "code",
   "execution_count": null,
   "id": "8de6b830",
   "metadata": {},
   "outputs": [
    {
     "data": {
      "text/plain": [
       "12"
      ]
     },
     "execution_count": 11,
     "metadata": {},
     "output_type": "execute_result"
    }
   ],
   "source": [
    "#when we increase rdd partition only get default partition not define partition\n",
    "rdd3=rdd.coalesce(14)\n",
    "rdd3.getNumPartitions()"
   ]
  },
  {
   "cell_type": "code",
   "execution_count": 12,
   "id": "be70f275",
   "metadata": {},
   "outputs": [
    {
     "name": "stdout",
     "output_type": "stream",
     "text": [
      "Help on method repartition in module pyspark.rdd:\n",
      "\n",
      "repartition(numPartitions: int) -> 'RDD[T]' method of pyspark.rdd.RDD instance\n",
      "     Return a new RDD that has exactly numPartitions partitions.\n",
      "    \n",
      "     Can increase or decrease the level of parallelism in this RDD.\n",
      "     Internally, this uses a shuffle to redistribute data.\n",
      "     If you are decreasing the number of partitions in this RDD, consider\n",
      "     using `coalesce`, which can avoid performing a shuffle.\n",
      "    \n",
      "    .. versionadded:: 1.0.0\n",
      "    \n",
      "    Parameters\n",
      "    ----------\n",
      "    numPartitions : int, optional\n",
      "        the number of partitions in new :class:`RDD`\n",
      "    \n",
      "    Returns\n",
      "    -------\n",
      "    :class:`RDD`\n",
      "        a :class:`RDD` with exactly numPartitions partitions\n",
      "    \n",
      "    See Also\n",
      "    --------\n",
      "    :meth:`RDD.coalesce`\n",
      "    :meth:`RDD.partitionBy`\n",
      "    :meth:`RDD.repartitionAndSortWithinPartitions`\n",
      "    \n",
      "    Examples\n",
      "    --------\n",
      "     >>> rdd = sc.parallelize([1,2,3,4,5,6,7], 4)\n",
      "     >>> sorted(rdd.glom().collect())\n",
      "     [[1], [2, 3], [4, 5], [6, 7]]\n",
      "     >>> len(rdd.repartition(2).glom().collect())\n",
      "     2\n",
      "     >>> len(rdd.repartition(10).glom().collect())\n",
      "     10\n",
      "\n"
     ]
    }
   ],
   "source": [
    "help(rdd.repartition)"
   ]
  },
  {
   "cell_type": "code",
   "execution_count": 16,
   "id": "ca1a2332",
   "metadata": {},
   "outputs": [
    {
     "data": {
      "text/plain": [
       "[[3, 2, 5], [2, 4], [6], [4, 5, 7, 5, 7]]"
      ]
     },
     "execution_count": 16,
     "metadata": {},
     "output_type": "execute_result"
    }
   ],
   "source": [
    "rdd4=rdd.repartition(4)\n",
    "rdd4.glom().collect()"
   ]
  },
  {
   "cell_type": "code",
   "execution_count": 17,
   "id": "00f89d68",
   "metadata": {},
   "outputs": [
    {
     "data": {
      "text/plain": [
       "[[4], [], [5, 2, 7], [7], [], [5], [2], [], [], [3, 6], [], [5], [4], []]"
      ]
     },
     "execution_count": 17,
     "metadata": {},
     "output_type": "execute_result"
    }
   ],
   "source": [
    "rdd6=rdd.repartition(14)\n",
    "rdd6.glom().collect()"
   ]
  }
 ],
 "metadata": {
  "kernelspec": {
   "display_name": "Python 3",
   "language": "python",
   "name": "python3"
  },
  "language_info": {
   "codemirror_mode": {
    "name": "ipython",
    "version": 3
   },
   "file_extension": ".py",
   "mimetype": "text/x-python",
   "name": "python",
   "nbconvert_exporter": "python",
   "pygments_lexer": "ipython3",
   "version": "3.10.0"
  }
 },
 "nbformat": 4,
 "nbformat_minor": 5
}
