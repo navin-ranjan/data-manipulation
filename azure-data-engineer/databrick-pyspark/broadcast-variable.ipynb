{
 "cells": [
  {
   "cell_type": "code",
   "execution_count": 1,
   "id": "228ed349",
   "metadata": {},
   "outputs": [],
   "source": [
    "from pyspark.sql import SparkSession\n",
    "\n",
    "spark=SparkSession.builder.appName('broadcast-varable').getOrCreate()\n",
    "sc=spark.sparkContext"
   ]
  },
  {
   "cell_type": "code",
   "execution_count": 2,
   "id": "350fa6f8",
   "metadata": {},
   "outputs": [
    {
     "data": {
      "text/html": [
       "\n",
       "            <div>\n",
       "                <p><b>SparkSession - in-memory</b></p>\n",
       "                \n",
       "        <div>\n",
       "            <p><b>SparkContext</b></p>\n",
       "\n",
       "            <p><a href=\"http://DESKTOP-OI3A44I:4043\">Spark UI</a></p>\n",
       "\n",
       "            <dl>\n",
       "              <dt>Version</dt>\n",
       "                <dd><code>v3.4.3</code></dd>\n",
       "              <dt>Master</dt>\n",
       "                <dd><code>local[*]</code></dd>\n",
       "              <dt>AppName</dt>\n",
       "                <dd><code>broadcast-varable</code></dd>\n",
       "            </dl>\n",
       "        </div>\n",
       "        \n",
       "            </div>\n",
       "        "
      ],
      "text/plain": [
       "<pyspark.sql.session.SparkSession at 0x28fc8eb8d00>"
      ]
     },
     "execution_count": 2,
     "metadata": {},
     "output_type": "execute_result"
    }
   ],
   "source": [
    "spark"
   ]
  },
  {
   "cell_type": "code",
   "execution_count": 3,
   "id": "18ea3776",
   "metadata": {},
   "outputs": [],
   "source": [
    "data =[(1, \"india\", 10000), (2,\"UK\", 50000), (3,\"US\", 100000), (4,\"France\", 90000)]"
   ]
  },
  {
   "cell_type": "code",
   "execution_count": 5,
   "id": "9686cf1d",
   "metadata": {},
   "outputs": [
    {
     "data": {
      "text/plain": [
       "[(1, 'india', 10000),\n",
       " (2, 'UK', 50000),\n",
       " (3, 'US', 100000),\n",
       " (4, 'France', 90000)]"
      ]
     },
     "execution_count": 5,
     "metadata": {},
     "output_type": "execute_result"
    }
   ],
   "source": [
    "rdd=sc.parallelize(data)\n",
    "rdd.collect()"
   ]
  },
  {
   "cell_type": "code",
   "execution_count": 6,
   "id": "2d0139f8",
   "metadata": {},
   "outputs": [],
   "source": [
    "product = {1:\"phone\", 2:\"Ipad\", 3:\"TV\", 4:\"Laptop\"}"
   ]
  },
  {
   "cell_type": "code",
   "execution_count": 10,
   "id": "e2508b15",
   "metadata": {},
   "outputs": [
    {
     "name": "stdout",
     "output_type": "stream",
     "text": [
      "{1: 'phone', 2: 'Ipad', 3: 'TV', 4: 'Laptop'}\n",
      "<class 'pyspark.broadcast.Broadcast'>\n"
     ]
    }
   ],
   "source": [
    "prodbc=sc.broadcast(product)\n",
    "print(prodbc.value)\n",
    "print(type(prodbc))\n"
   ]
  },
  {
   "cell_type": "code",
   "execution_count": 7,
   "id": "17254407",
   "metadata": {},
   "outputs": [
    {
     "data": {
      "text/plain": [
       "[1, 2, 3, 4]"
      ]
     },
     "execution_count": 7,
     "metadata": {},
     "output_type": "execute_result"
    }
   ],
   "source": [
    "rdd2=rdd.map(lambda x: x[0])\n",
    "rdd2.collect()"
   ]
  },
  {
   "cell_type": "code",
   "execution_count": 12,
   "id": "d6682dd3",
   "metadata": {},
   "outputs": [
    {
     "data": {
      "text/plain": [
       "[(1, 'phone'), (2, 'Ipad'), (3, 'TV'), (4, 'Laptop')]"
      ]
     },
     "execution_count": 12,
     "metadata": {},
     "output_type": "execute_result"
    }
   ],
   "source": [
    "rdd3=rdd.map(lambda x: (x[0], prodbc.value[x[0]]))\n",
    "rdd3.collect()"
   ]
  },
  {
   "cell_type": "code",
   "execution_count": 14,
   "id": "f850cb1c",
   "metadata": {},
   "outputs": [
    {
     "data": {
      "text/plain": [
       "[(1, 'phone', 'india', 10000),\n",
       " (2, 'Ipad', 'UK', 50000),\n",
       " (3, 'TV', 'US', 100000),\n",
       " (4, 'Laptop', 'France', 90000)]"
      ]
     },
     "execution_count": 14,
     "metadata": {},
     "output_type": "execute_result"
    }
   ],
   "source": [
    "rdd4=rdd.map(lambda x: (x[0], prodbc.value[x[0]], x[1], x[2]))\n",
    "rdd4.collect()"
   ]
  }
 ],
 "metadata": {
  "kernelspec": {
   "display_name": "Python 3",
   "language": "python",
   "name": "python3"
  },
  "language_info": {
   "codemirror_mode": {
    "name": "ipython",
    "version": 3
   },
   "file_extension": ".py",
   "mimetype": "text/x-python",
   "name": "python",
   "nbconvert_exporter": "python",
   "pygments_lexer": "ipython3",
   "version": "3.10.0"
  }
 },
 "nbformat": 4,
 "nbformat_minor": 5
}
