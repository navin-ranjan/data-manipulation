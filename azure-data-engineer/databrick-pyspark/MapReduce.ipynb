{
 "cells": [
  {
   "cell_type": "code",
   "execution_count": 1,
   "id": "6a74eded",
   "metadata": {},
   "outputs": [],
   "source": [
    "from pyspark.sql import SparkSession\n",
    "\n",
    "spark=SparkSession.builder.appName('map-reduce').getOrCreate()\n",
    "sc=spark.sparkContext"
   ]
  },
  {
   "cell_type": "code",
   "execution_count": 2,
   "id": "20792798",
   "metadata": {},
   "outputs": [
    {
     "data": {
      "text/html": [
       "\n",
       "            <div>\n",
       "                <p><b>SparkSession - in-memory</b></p>\n",
       "                \n",
       "        <div>\n",
       "            <p><b>SparkContext</b></p>\n",
       "\n",
       "            <p><a href=\"http://DESKTOP-OI3A44I:4042\">Spark UI</a></p>\n",
       "\n",
       "            <dl>\n",
       "              <dt>Version</dt>\n",
       "                <dd><code>v3.4.3</code></dd>\n",
       "              <dt>Master</dt>\n",
       "                <dd><code>local[*]</code></dd>\n",
       "              <dt>AppName</dt>\n",
       "                <dd><code>map-reduce</code></dd>\n",
       "            </dl>\n",
       "        </div>\n",
       "        \n",
       "            </div>\n",
       "        "
      ],
      "text/plain": [
       "<pyspark.sql.session.SparkSession at 0x1d9961d8cd0>"
      ]
     },
     "execution_count": 2,
     "metadata": {},
     "output_type": "execute_result"
    }
   ],
   "source": [
    "spark"
   ]
  },
  {
   "cell_type": "markdown",
   "id": "857414df",
   "metadata": {},
   "source": [
    "# Map_Reduce"
   ]
  },
  {
   "cell_type": "markdown",
   "id": "00fce06d",
   "metadata": {},
   "source": [
    "![alt text](image.png)"
   ]
  },
  {
   "cell_type": "markdown",
   "id": "baf34536",
   "metadata": {},
   "source": [
    "![alt text](image-1.png)"
   ]
  },
  {
   "cell_type": "code",
   "execution_count": 3,
   "id": "2ddf29c3",
   "metadata": {},
   "outputs": [
    {
     "data": {
      "text/plain": [
       "['My name is Navin Ranjan', 'this is second line', 'this is third line']"
      ]
     },
     "execution_count": 3,
     "metadata": {},
     "output_type": "execute_result"
    }
   ],
   "source": [
    "rddt1=sc.textFile(\"C:\\\\Users\\\\Navin Ranjan\\\\Desktop\\\\git-work\\\\data-manipulation\\\\azure-data-engineer\\\\databrick-pyspark\\\\files\\\\wordfile.txt\")\n",
    "rddt1.collect()"
   ]
  },
  {
   "cell_type": "markdown",
   "id": "c5f81e00",
   "metadata": {},
   "source": [
    "flatMap Narrow tranformation"
   ]
  },
  {
   "cell_type": "code",
   "execution_count": 4,
   "id": "bb17321f",
   "metadata": {},
   "outputs": [
    {
     "data": {
      "text/plain": [
       "['My',\n",
       " 'name',\n",
       " 'is',\n",
       " 'Navin',\n",
       " 'Ranjan',\n",
       " 'this',\n",
       " 'is',\n",
       " 'second',\n",
       " 'line',\n",
       " 'this',\n",
       " 'is',\n",
       " 'third',\n",
       " 'line']"
      ]
     },
     "execution_count": 4,
     "metadata": {},
     "output_type": "execute_result"
    }
   ],
   "source": [
    "#help(rddt1.flatMap)\n",
    "rdd2=rddt1.flatMap(lambda x: x.split(' '))\n",
    "rdd2.collect()"
   ]
  },
  {
   "cell_type": "markdown",
   "id": "27394fb3",
   "metadata": {},
   "source": [
    "map Narrow transformation"
   ]
  },
  {
   "cell_type": "code",
   "execution_count": 5,
   "id": "750d5569",
   "metadata": {},
   "outputs": [
    {
     "data": {
      "text/plain": [
       "[('My', 1),\n",
       " ('name', 1),\n",
       " ('is', 1),\n",
       " ('Navin', 1),\n",
       " ('Ranjan', 1),\n",
       " ('this', 1),\n",
       " ('is', 1),\n",
       " ('second', 1),\n",
       " ('line', 1),\n",
       " ('this', 1),\n",
       " ('is', 1),\n",
       " ('third', 1),\n",
       " ('line', 1)]"
      ]
     },
     "execution_count": 5,
     "metadata": {},
     "output_type": "execute_result"
    }
   ],
   "source": [
    "rdd3=rdd2.map(lambda y: (y,1))\n",
    "rdd3.collect()"
   ]
  },
  {
   "cell_type": "markdown",
   "id": "db2966e7",
   "metadata": {},
   "source": [
    "reduceByKey wide transformation"
   ]
  },
  {
   "cell_type": "code",
   "execution_count": 6,
   "id": "620993f8",
   "metadata": {},
   "outputs": [
    {
     "data": {
      "text/plain": [
       "[('name', 1),\n",
       " ('is', 3),\n",
       " ('Navin', 1),\n",
       " ('Ranjan', 1),\n",
       " ('this', 2),\n",
       " ('line', 2),\n",
       " ('third', 1),\n",
       " ('My', 1),\n",
       " ('second', 1)]"
      ]
     },
     "execution_count": 6,
     "metadata": {},
     "output_type": "execute_result"
    }
   ],
   "source": [
    "rdd4 = rdd3.reduceByKey(lambda x,y: x+y)\n",
    "rdd4.collect()"
   ]
  },
  {
   "cell_type": "code",
   "execution_count": 8,
   "id": "44e53775",
   "metadata": {},
   "outputs": [
    {
     "name": "stdout",
     "output_type": "stream",
     "text": [
      "Help on method reduceByKeyLocally in module pyspark.rdd:\n",
      "\n",
      "reduceByKeyLocally(func: Callable[[~V, ~V], ~V]) -> Dict[~K, ~V] method of pyspark.rdd.PipelinedRDD instance\n",
      "    Merge the values for each key using an associative and commutative reduce function, but\n",
      "    return the results immediately to the master as a dictionary.\n",
      "    \n",
      "    This will also perform the merging locally on each mapper before\n",
      "    sending results to a reducer, similarly to a \"combiner\" in MapReduce.\n",
      "    \n",
      "    .. versionadded:: 0.7.0\n",
      "    \n",
      "    Parameters\n",
      "    ----------\n",
      "    func : function\n",
      "        the reduce function\n",
      "    \n",
      "    Returns\n",
      "    -------\n",
      "    dict\n",
      "        a dict containing the keys and the aggregated result for each key\n",
      "    \n",
      "    See Also\n",
      "    --------\n",
      "    :meth:`RDD.reduceByKey`\n",
      "    :meth:`RDD.aggregateByKey`\n",
      "    \n",
      "    Examples\n",
      "    --------\n",
      "    >>> from operator import add\n",
      "    >>> rdd = sc.parallelize([(\"a\", 1), (\"b\", 1), (\"a\", 1)])\n",
      "    >>> sorted(rdd.reduceByKeyLocally(add).items())\n",
      "    [('a', 2), ('b', 1)]\n",
      "\n"
     ]
    }
   ],
   "source": [
    "help(rdd3.reduceByKeyLocally)"
   ]
  }
 ],
 "metadata": {
  "kernelspec": {
   "display_name": "Python 3",
   "language": "python",
   "name": "python3"
  },
  "language_info": {
   "codemirror_mode": {
    "name": "ipython",
    "version": 3
   },
   "file_extension": ".py",
   "mimetype": "text/x-python",
   "name": "python",
   "nbconvert_exporter": "python",
   "pygments_lexer": "ipython3",
   "version": "3.10.0"
  }
 },
 "nbformat": 4,
 "nbformat_minor": 5
}
