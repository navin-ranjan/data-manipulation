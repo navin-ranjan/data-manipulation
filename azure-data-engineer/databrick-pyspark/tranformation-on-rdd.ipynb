{
 "cells": [
  {
   "cell_type": "code",
   "execution_count": 2,
   "id": "730b8bc3",
   "metadata": {},
   "outputs": [],
   "source": [
    "from pyspark.sql import SparkSession\n",
    "\n",
    "spark=SparkSession.builder.appName('rdd-control').getOrCreate()\n",
    "sc=spark.sparkContext"
   ]
  },
  {
   "cell_type": "code",
   "execution_count": 16,
   "id": "f82402e4",
   "metadata": {},
   "outputs": [
    {
     "data": {
      "text/html": [
       "\n",
       "            <div>\n",
       "                <p><b>SparkSession - in-memory</b></p>\n",
       "                \n",
       "        <div>\n",
       "            <p><b>SparkContext</b></p>\n",
       "\n",
       "            <p><a href=\"http://DESKTOP-OI3A44I:4040\">Spark UI</a></p>\n",
       "\n",
       "            <dl>\n",
       "              <dt>Version</dt>\n",
       "                <dd><code>v3.4.3</code></dd>\n",
       "              <dt>Master</dt>\n",
       "                <dd><code>local[*]</code></dd>\n",
       "              <dt>AppName</dt>\n",
       "                <dd><code>rdd-control</code></dd>\n",
       "            </dl>\n",
       "        </div>\n",
       "        \n",
       "            </div>\n",
       "        "
      ],
      "text/plain": [
       "<pyspark.sql.session.SparkSession at 0x2127ea8c250>"
      ]
     },
     "execution_count": 16,
     "metadata": {},
     "output_type": "execute_result"
    }
   ],
   "source": [
    "spark"
   ]
  },
  {
   "cell_type": "code",
   "execution_count": 3,
   "id": "fa777c53",
   "metadata": {},
   "outputs": [
    {
     "data": {
      "text/plain": [
       "['My name is Navin Ranjan', 'this is second line', 'this is third line']"
      ]
     },
     "execution_count": 3,
     "metadata": {},
     "output_type": "execute_result"
    }
   ],
   "source": [
    "rddt1=sc.textFile(\"C:\\\\Users\\\\Navin Ranjan\\\\Desktop\\\\git-work\\\\data-manipulation\\\\azure-data-engineer\\\\databrick-pyspark\\\\files\\\\wordfile.txt\")\n",
    "rddt1.collect()"
   ]
  },
  {
   "cell_type": "markdown",
   "id": "9c240562",
   "metadata": {},
   "source": [
    "flatMap tranformation"
   ]
  },
  {
   "cell_type": "code",
   "execution_count": 4,
   "id": "35418b8c",
   "metadata": {},
   "outputs": [
    {
     "data": {
      "text/plain": [
       "['My',\n",
       " 'name',\n",
       " 'is',\n",
       " 'Navin',\n",
       " 'Ranjan',\n",
       " 'this',\n",
       " 'is',\n",
       " 'second',\n",
       " 'line',\n",
       " 'this',\n",
       " 'is',\n",
       " 'third',\n",
       " 'line']"
      ]
     },
     "execution_count": 4,
     "metadata": {},
     "output_type": "execute_result"
    }
   ],
   "source": [
    "#help(rddt1.flatMap)\n",
    "rdd2=rddt1.flatMap(lambda x: x.split(' '))\n",
    "rdd2.collect()"
   ]
  },
  {
   "cell_type": "markdown",
   "id": "54d9983e",
   "metadata": {},
   "source": [
    "map transformation"
   ]
  },
  {
   "cell_type": "code",
   "execution_count": 5,
   "id": "c8d0b185",
   "metadata": {},
   "outputs": [
    {
     "data": {
      "text/plain": [
       "[('My', 1),\n",
       " ('name', 1),\n",
       " ('is', 1),\n",
       " ('Navin', 1),\n",
       " ('Ranjan', 1),\n",
       " ('this', 1),\n",
       " ('is', 1),\n",
       " ('second', 1),\n",
       " ('line', 1),\n",
       " ('this', 1),\n",
       " ('is', 1),\n",
       " ('third', 1),\n",
       " ('line', 1)]"
      ]
     },
     "execution_count": 5,
     "metadata": {},
     "output_type": "execute_result"
    }
   ],
   "source": [
    "rdd3=rdd2.map(lambda y: (y,1))\n",
    "rdd3.collect()"
   ]
  },
  {
   "cell_type": "markdown",
   "id": "813b8b8a",
   "metadata": {},
   "source": [
    "reduceByKey transformation"
   ]
  },
  {
   "cell_type": "code",
   "execution_count": 6,
   "id": "d00f9ee9",
   "metadata": {},
   "outputs": [
    {
     "data": {
      "text/plain": [
       "[('name', 1),\n",
       " ('is', 3),\n",
       " ('Navin', 1),\n",
       " ('Ranjan', 1),\n",
       " ('this', 2),\n",
       " ('line', 2),\n",
       " ('third', 1),\n",
       " ('My', 1),\n",
       " ('second', 1)]"
      ]
     },
     "execution_count": 6,
     "metadata": {},
     "output_type": "execute_result"
    }
   ],
   "source": [
    "rdd4 = rdd3.reduceByKey(lambda x,y: x+y)\n",
    "rdd4.collect()"
   ]
  },
  {
   "cell_type": "markdown",
   "id": "3bf9dd49",
   "metadata": {},
   "source": [
    "# Filter transformation"
   ]
  },
  {
   "cell_type": "code",
   "execution_count": 10,
   "id": "2ee5a109",
   "metadata": {},
   "outputs": [
    {
     "name": "stdout",
     "output_type": "stream",
     "text": [
      "[('is', 3), ('this', 2), ('line', 2)]\n"
     ]
    }
   ],
   "source": [
    "rdd5=rdd4.filter(lambda x: x[1]>=2)\n",
    "print(rdd5.collect())"
   ]
  },
  {
   "cell_type": "markdown",
   "id": "852200db",
   "metadata": {},
   "source": [
    "# SortBy & SortByKey transformation"
   ]
  },
  {
   "cell_type": "code",
   "execution_count": 12,
   "id": "96e31183",
   "metadata": {},
   "outputs": [
    {
     "name": "stdout",
     "output_type": "stream",
     "text": [
      "Help on method sortByKey in module pyspark.rdd:\n",
      "\n",
      "sortByKey(ascending: Optional[bool] = True, numPartitions: Optional[int] = None, keyfunc: Callable[[Any], Any] = <function RDD.<lambda> at 0x000002127E7A0280>) -> 'RDD[Tuple[K, V]]' method of pyspark.rdd.PipelinedRDD instance\n",
      "    Sorts this RDD, which is assumed to consist of (key, value) pairs.\n",
      "    \n",
      "    .. versionadded:: 0.9.1\n",
      "    \n",
      "    Parameters\n",
      "    ----------\n",
      "    ascending : bool, optional, default True\n",
      "        sort the keys in ascending or descending order\n",
      "    numPartitions : int, optional\n",
      "        the number of partitions in new :class:`RDD`\n",
      "    keyfunc : function, optional, default identity mapping\n",
      "        a function to compute the key\n",
      "    \n",
      "    Returns\n",
      "    -------\n",
      "    :class:`RDD`\n",
      "        a new :class:`RDD`\n",
      "    \n",
      "    See Also\n",
      "    --------\n",
      "    :meth:`RDD.sortBy`\n",
      "    :meth:`pyspark.sql.DataFrame.sort`\n",
      "    \n",
      "    Examples\n",
      "    --------\n",
      "    >>> tmp = [('a', 1), ('b', 2), ('1', 3), ('d', 4), ('2', 5)]\n",
      "    >>> sc.parallelize(tmp).sortByKey().first()\n",
      "    ('1', 3)\n",
      "    >>> sc.parallelize(tmp).sortByKey(True, 1).collect()\n",
      "    [('1', 3), ('2', 5), ('a', 1), ('b', 2), ('d', 4)]\n",
      "    >>> sc.parallelize(tmp).sortByKey(True, 2).collect()\n",
      "    [('1', 3), ('2', 5), ('a', 1), ('b', 2), ('d', 4)]\n",
      "    >>> tmp2 = [('Mary', 1), ('had', 2), ('a', 3), ('little', 4), ('lamb', 5)]\n",
      "    >>> tmp2.extend([('whose', 6), ('fleece', 7), ('was', 8), ('white', 9)])\n",
      "    >>> sc.parallelize(tmp2).sortByKey(True, 3, keyfunc=lambda k: k.lower()).collect()\n",
      "    [('a', 3), ('fleece', 7), ('had', 2), ('lamb', 5),...('white', 9), ('whose', 6)]\n",
      "\n"
     ]
    }
   ],
   "source": [
    "help(rdd4.sortByKey)"
   ]
  },
  {
   "cell_type": "code",
   "execution_count": 14,
   "id": "3863d0fb",
   "metadata": {},
   "outputs": [
    {
     "data": {
      "text/plain": [
       "[('My', 1),\n",
       " ('Navin', 1),\n",
       " ('Ranjan', 1),\n",
       " ('is', 3),\n",
       " ('line', 2),\n",
       " ('name', 1),\n",
       " ('second', 1),\n",
       " ('third', 1),\n",
       " ('this', 2)]"
      ]
     },
     "execution_count": 14,
     "metadata": {},
     "output_type": "execute_result"
    }
   ],
   "source": [
    "rdd6=rdd4.sortByKey(ascending=True)\n",
    "rdd6.collect()"
   ]
  },
  {
   "cell_type": "code",
   "execution_count": 15,
   "id": "11193547",
   "metadata": {},
   "outputs": [
    {
     "data": {
      "text/plain": [
       "[('this', 2),\n",
       " ('third', 1),\n",
       " ('second', 1),\n",
       " ('name', 1),\n",
       " ('line', 2),\n",
       " ('is', 3),\n",
       " ('Ranjan', 1),\n",
       " ('Navin', 1),\n",
       " ('My', 1)]"
      ]
     },
     "execution_count": 15,
     "metadata": {},
     "output_type": "execute_result"
    }
   ],
   "source": [
    "rdd7=rdd4.sortByKey(ascending=False)\n",
    "rdd7.collect()"
   ]
  },
  {
   "cell_type": "markdown",
   "id": "3214a41c",
   "metadata": {},
   "source": [
    "![alt text](image-2.png)"
   ]
  },
  {
   "cell_type": "code",
   "execution_count": 17,
   "id": "40a5a275",
   "metadata": {},
   "outputs": [
    {
     "data": {
      "text/plain": [
       "[('name', 1),\n",
       " ('Navin', 1),\n",
       " ('Ranjan', 1),\n",
       " ('third', 1),\n",
       " ('My', 1),\n",
       " ('second', 1),\n",
       " ('this', 2),\n",
       " ('line', 2),\n",
       " ('is', 3)]"
      ]
     },
     "execution_count": 17,
     "metadata": {},
     "output_type": "execute_result"
    }
   ],
   "source": [
    "rdd4.sortBy(lambda x: x[1]).collect()\n"
   ]
  },
  {
   "cell_type": "code",
   "execution_count": 18,
   "id": "a87233e1",
   "metadata": {},
   "outputs": [
    {
     "data": {
      "text/plain": [
       "[('My', 1),\n",
       " ('Navin', 1),\n",
       " ('Ranjan', 1),\n",
       " ('is', 3),\n",
       " ('line', 2),\n",
       " ('name', 1),\n",
       " ('second', 1),\n",
       " ('third', 1),\n",
       " ('this', 2)]"
      ]
     },
     "execution_count": 18,
     "metadata": {},
     "output_type": "execute_result"
    }
   ],
   "source": [
    "rdd4.sortBy(lambda x: x[0]).collect()"
   ]
  },
  {
   "cell_type": "code",
   "execution_count": 19,
   "id": "0cf43eca",
   "metadata": {},
   "outputs": [
    {
     "data": {
      "text/plain": [
       "[('is', 3),\n",
       " ('this', 2),\n",
       " ('line', 2),\n",
       " ('name', 1),\n",
       " ('Navin', 1),\n",
       " ('Ranjan', 1),\n",
       " ('third', 1),\n",
       " ('My', 1),\n",
       " ('second', 1)]"
      ]
     },
     "execution_count": 19,
     "metadata": {},
     "output_type": "execute_result"
    }
   ],
   "source": [
    "rdd4.sortBy(lambda x: x[1], ascending=False).collect()"
   ]
  }
 ],
 "metadata": {
  "kernelspec": {
   "display_name": "Python 3",
   "language": "python",
   "name": "python3"
  },
  "language_info": {
   "codemirror_mode": {
    "name": "ipython",
    "version": 3
   },
   "file_extension": ".py",
   "mimetype": "text/x-python",
   "name": "python",
   "nbconvert_exporter": "python",
   "pygments_lexer": "ipython3",
   "version": "3.10.0"
  }
 },
 "nbformat": 4,
 "nbformat_minor": 5
}
