{
 "cells": [
  {
   "cell_type": "code",
   "execution_count": 1,
   "id": "730b8bc3",
   "metadata": {},
   "outputs": [],
   "source": [
    "from pyspark.sql import SparkSession\n",
    "\n",
    "spark=SparkSession.builder.appName('rdd-control').getOrCreate()\n",
    "sc=spark.sparkContext"
   ]
  },
  {
   "cell_type": "code",
   "execution_count": 2,
   "id": "fa777c53",
   "metadata": {},
   "outputs": [
    {
     "data": {
      "text/plain": [
       "['My name is Navin Ranjan', 'this is second line', 'this is third line']"
      ]
     },
     "execution_count": 2,
     "metadata": {},
     "output_type": "execute_result"
    }
   ],
   "source": [
    "rddt1=sc.textFile(\"C:\\\\Users\\\\Navin Ranjan\\\\Desktop\\\\git-work\\\\data-manipulation\\\\azure-data-engineer\\\\databrick-pyspark\\\\files\\\\wordfile.txt\")\n",
    "rddt1.collect()"
   ]
  },
  {
   "cell_type": "markdown",
   "id": "9c240562",
   "metadata": {},
   "source": [
    "flatMap tranformation"
   ]
  },
  {
   "cell_type": "code",
   "execution_count": 6,
   "id": "35418b8c",
   "metadata": {},
   "outputs": [
    {
     "data": {
      "text/plain": [
       "['My',\n",
       " 'name',\n",
       " 'is',\n",
       " 'Navin',\n",
       " 'Ranjan',\n",
       " 'this',\n",
       " 'is',\n",
       " 'second',\n",
       " 'line',\n",
       " 'this',\n",
       " 'is',\n",
       " 'third',\n",
       " 'line']"
      ]
     },
     "execution_count": 6,
     "metadata": {},
     "output_type": "execute_result"
    }
   ],
   "source": [
    "#help(rddt1.flatMap)\n",
    "rdd2=rddt1.flatMap(lambda x: x.split(' '))\n",
    "rdd2.collect()"
   ]
  },
  {
   "cell_type": "markdown",
   "id": "54d9983e",
   "metadata": {},
   "source": [
    "map transformation"
   ]
  },
  {
   "cell_type": "code",
   "execution_count": 7,
   "id": "c8d0b185",
   "metadata": {},
   "outputs": [
    {
     "data": {
      "text/plain": [
       "[('My', 1),\n",
       " ('name', 1),\n",
       " ('is', 1),\n",
       " ('Navin', 1),\n",
       " ('Ranjan', 1),\n",
       " ('this', 1),\n",
       " ('is', 1),\n",
       " ('second', 1),\n",
       " ('line', 1),\n",
       " ('this', 1),\n",
       " ('is', 1),\n",
       " ('third', 1),\n",
       " ('line', 1)]"
      ]
     },
     "execution_count": 7,
     "metadata": {},
     "output_type": "execute_result"
    }
   ],
   "source": [
    "rdd3=rdd2.map(lambda y: (y,1))\n",
    "rdd3.collect()"
   ]
  },
  {
   "cell_type": "markdown",
   "id": "813b8b8a",
   "metadata": {},
   "source": [
    "reduceByKey transformation"
   ]
  },
  {
   "cell_type": "code",
   "execution_count": 9,
   "id": "d00f9ee9",
   "metadata": {},
   "outputs": [
    {
     "data": {
      "text/plain": [
       "[('name', 1),\n",
       " ('is', 3),\n",
       " ('Navin', 1),\n",
       " ('Ranjan', 1),\n",
       " ('this', 2),\n",
       " ('line', 2),\n",
       " ('third', 1),\n",
       " ('My', 1),\n",
       " ('second', 1)]"
      ]
     },
     "execution_count": 9,
     "metadata": {},
     "output_type": "execute_result"
    }
   ],
   "source": [
    "rdd4 = rdd3.reduceByKey(lambda x,y: x+y)\n",
    "rdd4.collect()"
   ]
  }
 ],
 "metadata": {
  "kernelspec": {
   "display_name": "Python 3",
   "language": "python",
   "name": "python3"
  },
  "language_info": {
   "codemirror_mode": {
    "name": "ipython",
    "version": 3
   },
   "file_extension": ".py",
   "mimetype": "text/x-python",
   "name": "python",
   "nbconvert_exporter": "python",
   "pygments_lexer": "ipython3",
   "version": "3.10.0"
  }
 },
 "nbformat": 4,
 "nbformat_minor": 5
}
