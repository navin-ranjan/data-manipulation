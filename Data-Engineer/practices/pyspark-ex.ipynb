{
 "cells": [
  {
   "cell_type": "markdown",
   "id": "73c04429",
   "metadata": {},
   "source": [
    "Q. Solve pyspark question :\n",
    "\n",
    "id (INT), name (STRING), age (INT), salary (FLOAT)\n",
    "\n",
    "Write a PySpark transformation to:\n",
    "\n",
    "1. Filter out rows where age is greater than 30.\n",
    "\n",
    "2. Sort the DataFrame by salary in descending order.\n",
    "\n",
    "3. Select only the name and salary columns."
   ]
  },
  {
   "cell_type": "code",
   "execution_count": 5,
   "id": "9a819c19",
   "metadata": {},
   "outputs": [
    {
     "name": "stdout",
     "output_type": "stream",
     "text": [
      "+---+------------+---+------+\n",
      "| id|        name|age|salary|\n",
      "+---+------------+---+------+\n",
      "|  1|navin ranjan| 27| 35000|\n",
      "|  2|rohit ranjan| 23| 28000|\n",
      "|  3|manoj ranjan| 38| 50000|\n",
      "|  4|rakesh kumar| 25| 35000|\n",
      "+---+------------+---+------+\n",
      "\n",
      "+---+------------+---+------+\n",
      "| id|        name|age|salary|\n",
      "+---+------------+---+------+\n",
      "|  3|manoj ranjan| 38| 50000|\n",
      "+---+------------+---+------+\n",
      "\n",
      "+---+------------+---+------+\n",
      "| id|        name|age|salary|\n",
      "+---+------------+---+------+\n",
      "|  3|manoj ranjan| 38| 50000|\n",
      "|  1|navin ranjan| 27| 35000|\n",
      "|  4|rakesh kumar| 25| 35000|\n",
      "|  2|rohit ranjan| 23| 28000|\n",
      "+---+------------+---+------+\n",
      "\n",
      "+------------+------+\n",
      "|        name|salary|\n",
      "+------------+------+\n",
      "|navin ranjan| 35000|\n",
      "|rohit ranjan| 28000|\n",
      "|manoj ranjan| 50000|\n",
      "|rakesh kumar| 35000|\n",
      "+------------+------+\n",
      "\n"
     ]
    }
   ],
   "source": [
    "from pyspark.sql import SparkSession\n",
    "from pyspark.sql.functions import *\n",
    "\n",
    "spark = SparkSession.builder.appName('question1').getOrCreate()\n",
    "\n",
    "schema = ['id', 'name', 'age', 'salary']\n",
    "\n",
    "data = [(1, 'navin ranjan', 27, 35000),\n",
    "        (2, 'rohit ranjan', 23, 28000),\n",
    "        (3, 'manoj ranjan', 38, 50000),\n",
    "        (4, 'rakesh kumar', 25, 35000)]\n",
    "\n",
    "df=spark.createDataFrame(data, schema)\n",
    "df.show()\n",
    "\n",
    "# Filter out rows where age is greater than 30.\n",
    "fdf=df.filter(col('age')> 30)\n",
    "fdf.show()\n",
    "\n",
    "# Sort the DataFrame by salary in descending order.\n",
    "sdf=df.orderBy(desc(\"age\"))\n",
    "sdf.show()\n",
    "\n",
    "# Select only the name and salary columns.\n",
    "nsdf= df.select(col('name'), col('salary'))\n",
    "nsdf.show()\n",
    "\n",
    "\n",
    "\n",
    "spark.stop()"
   ]
  }
 ],
 "metadata": {
  "kernelspec": {
   "display_name": "Python 3",
   "language": "python",
   "name": "python3"
  },
  "language_info": {
   "codemirror_mode": {
    "name": "ipython",
    "version": 3
   },
   "file_extension": ".py",
   "mimetype": "text/x-python",
   "name": "python",
   "nbconvert_exporter": "python",
   "pygments_lexer": "ipython3",
   "version": "3.10.0"
  }
 },
 "nbformat": 4,
 "nbformat_minor": 5
}
