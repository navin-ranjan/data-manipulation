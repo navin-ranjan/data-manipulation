{
 "cells": [
  {
   "cell_type": "code",
   "execution_count": 1,
   "metadata": {},
   "outputs": [],
   "source": [
    "from pyspark.sql import SparkSession\n",
    "from pyspark.sql.functions import *\n",
    "from pyspark.sql.types import *"
   ]
  },
  {
   "cell_type": "code",
   "execution_count": 2,
   "metadata": {},
   "outputs": [
    {
     "name": "stdout",
     "output_type": "stream",
     "text": [
      "file:///C:/Users/Navin%20Ranjan/.ivy2/jars/com.datastax.spark_spark-cassandra-connector_2.13-3.4.1.jar,file:///C:/Users/Navin%20Ranjan/.ivy2/jars/com.datastax.spark_spark-cassandra-connector-driver_2.13-3.4.1.jar,file:///C:/Users/Navin%20Ranjan/.ivy2/jars/org.scala-lang.modules_scala-collection-compat_2.13-2.11.0.jar,file:///C:/Users/Navin%20Ranjan/.ivy2/jars/org.scala-lang.modules_scala-parallel-collections_2.13-1.0.4.jar,file:///C:/Users/Navin%20Ranjan/.ivy2/jars/com.datastax.oss_java-driver-core-shaded-4.13.0.jar,file:///C:/Users/Navin%20Ranjan/.ivy2/jars/com.datastax.oss_java-driver-mapper-runtime-4.13.0.jar,file:///C:/Users/Navin%20Ranjan/.ivy2/jars/org.apache.commons_commons-lang3-3.10.jar,file:///C:/Users/Navin%20Ranjan/.ivy2/jars/com.thoughtworks.paranamer_paranamer-2.8.jar,file:///C:/Users/Navin%20Ranjan/.ivy2/jars/org.scala-lang_scala-reflect-2.13.11.jar,file:///C:/Users/Navin%20Ranjan/.ivy2/jars/com.datastax.oss_native-protocol-1.5.0.jar,file:///C:/Users/Navin%20Ranjan/.ivy2/jars/com.datastax.oss_java-driver-shaded-guava-25.1-jre-graal-sub-1.jar,file:///C:/Users/Navin%20Ranjan/.ivy2/jars/com.typesafe_config-1.4.1.jar,file:///C:/Users/Navin%20Ranjan/.ivy2/jars/org.slf4j_slf4j-api-1.7.26.jar,file:///C:/Users/Navin%20Ranjan/.ivy2/jars/io.dropwizard.metrics_metrics-core-4.1.18.jar,file:///C:/Users/Navin%20Ranjan/.ivy2/jars/org.hdrhistogram_HdrHistogram-2.1.12.jar,file:///C:/Users/Navin%20Ranjan/.ivy2/jars/org.reactivestreams_reactive-streams-1.0.3.jar,file:///C:/Users/Navin%20Ranjan/.ivy2/jars/com.github.stephenc.jcip_jcip-annotations-1.0-1.jar,file:///C:/Users/Navin%20Ranjan/.ivy2/jars/com.github.spotbugs_spotbugs-annotations-3.1.12.jar,file:///C:/Users/Navin%20Ranjan/.ivy2/jars/com.google.code.findbugs_jsr305-3.0.2.jar,file:///C:/Users/Navin%20Ranjan/.ivy2/jars/com.datastax.oss_java-driver-query-builder-4.13.0.jar\n"
     ]
    }
   ],
   "source": [
    "from pyspark.sql import SparkSession\n",
    "\n",
    "spark = SparkSession.builder \\\n",
    "    .appName(\"CassandraExample\") \\\n",
    "    .config(\"spark.jars.packages\", \"com.datastax.spark:spark-cassandra-connector_2.13:3.4.1\") \\\n",
    "    .config(\"spark.cassandra.connection.host\", \"127.0.0.1\") \\\n",
    "    .config(\"spark.cassandra.connection.port\", \"9042\") \\\n",
    "    .config(\"spark.cassandra.connection.localDC\", \"datacenter1\") \\\n",
    "    .config(\"spark.cassandra.auth.username\", \"cassandra\") \\\n",
    "    .config(\"spark.cassandra.auth.password\", \"cassandra\") \\\n",
    "    .config(\"spark.cassandra.connection.ssl.enabled\", \"false\") \\\n",
    "    .config(\"spark.sql.catalog.ybcatalog\", \"com.datastax.spark.connector.datasource.CassandraCatalog\") \\\n",
    "    .getOrCreate()\n",
    "\n",
    "# Print the value of spark.jars configuration\n",
    "print(spark.conf.get(\"spark.jars\"))\n",
    "\n",
    "\n"
   ]
  },
  {
   "cell_type": "code",
   "execution_count": 6,
   "metadata": {},
   "outputs": [
    {
     "name": "stdout",
     "output_type": "stream",
     "text": [
      "+--------+----------+-------+------+-------+----+-------+---+-----+----------+------+-----+------+-----+\n",
      "|serialno|university|session|degree|college|name|address|dob|email|fathername|gender|image|mobile|photo|\n",
      "+--------+----------+-------+------+-------+----+-------+---+-----+----------+------+-----+------+-----+\n",
      "+--------+----------+-------+------+-------+----+-------+---+-----+----------+------+-----+------+-----+\n",
      "\n"
     ]
    }
   ],
   "source": [
    "# Now you can read from Cassandra\n",
    "df = spark.read \\\n",
    "    .format(\"org.apache.spark.sql.cassandra\") \\\n",
    "    .options(table=\"idcard\", keyspace=\"algorithm\") \\\n",
    "    .load()\n",
    "\n",
    "df.show()"
   ]
  }
 ],
 "metadata": {
  "kernelspec": {
   "display_name": "Python 3",
   "language": "python",
   "name": "python3"
  },
  "language_info": {
   "codemirror_mode": {
    "name": "ipython",
    "version": 3
   },
   "file_extension": ".py",
   "mimetype": "text/x-python",
   "name": "python",
   "nbconvert_exporter": "python",
   "pygments_lexer": "ipython3",
   "version": "3.10.0"
  }
 },
 "nbformat": 4,
 "nbformat_minor": 2
}
