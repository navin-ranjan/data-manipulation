{
 "cells": [
  {
   "cell_type": "markdown",
   "metadata": {},
   "source": [
    "how would you remove duplicate elements from a list while maintaining the original order?"
   ]
  },
  {
   "cell_type": "code",
   "execution_count": 4,
   "metadata": {},
   "outputs": [
    {
     "name": "stdout",
     "output_type": "stream",
     "text": [
      "[2, 4, 3, 6, 7, 5]\n"
     ]
    }
   ],
   "source": [
    "ls=[2,4,3,6,4,2,7,4,5,2,4,2,4,3]\n",
    "st=set()\n",
    "res=[x for x in ls if not (x in st or st.add(x))]\n",
    "print(res)"
   ]
  },
  {
   "cell_type": "code",
   "execution_count": 5,
   "metadata": {},
   "outputs": [
    {
     "name": "stdout",
     "output_type": "stream",
     "text": [
      "[2, 4, 3, 6, 7, 5]\n"
     ]
    }
   ],
   "source": [
    "ls=[2,4,3,6,4,2,7,4,5,2,4,2,4,3]\n",
    "st=set()\n",
    "res=list()\n",
    "for x in ls:\n",
    "    if x not in st:\n",
    "        st.add(x)\n",
    "        res.append(x)\n",
    "\n",
    "print(res)\n"
   ]
  }
 ],
 "metadata": {
  "kernelspec": {
   "display_name": "Python 3",
   "language": "python",
   "name": "python3"
  },
  "language_info": {
   "codemirror_mode": {
    "name": "ipython",
    "version": 3
   },
   "file_extension": ".py",
   "mimetype": "text/x-python",
   "name": "python",
   "nbconvert_exporter": "python",
   "pygments_lexer": "ipython3",
   "version": "3.10.0"
  }
 },
 "nbformat": 4,
 "nbformat_minor": 2
}
